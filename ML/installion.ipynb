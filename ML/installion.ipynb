{
 "cells": [
  {
   "cell_type": "code",
   "execution_count": null,
   "metadata": {},
   "outputs": [],
   "source": [
    "#create Environment python_ML\n",
    "#install pACKAGE\n",
    "1 python conda install python\n",
    "    1 pandas\n",
    "    2 numpy\n",
    "    3 matlpotlib\n",
    "    4 seaborn\n",
    "    5 plotly\n",
    "    6 scipy\n",
    "    7 scikit-learn\n",
    "    8 jupyter\n",
    "    9 openpyxl\n",
    "\n",
    "pip install...\n"
   ]
  },
  {
   "cell_type": "code",
   "execution_count": 2,
   "metadata": {},
   "outputs": [],
   "source": [
    "import pandas as pd\n",
    "import numpy as np\n",
    "import plotly as plty\n",
    "from sklearn.linear_model import LinearRegression\n"
   ]
  }
 ],
 "metadata": {
  "kernelspec": {
   "display_name": "base",
   "language": "python",
   "name": "python3"
  },
  "language_info": {
   "codemirror_mode": {
    "name": "ipython",
    "version": 3
   },
   "file_extension": ".py",
   "mimetype": "text/x-python",
   "name": "python",
   "nbconvert_exporter": "python",
   "pygments_lexer": "ipython3",
   "version": "3.11.7"
  }
 },
 "nbformat": 4,
 "nbformat_minor": 2
}
